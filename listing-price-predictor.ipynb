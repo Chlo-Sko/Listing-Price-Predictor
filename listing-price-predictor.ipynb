{
 "cells": [
  {
   "cell_type": "markdown",
   "id": "7f7fd12e",
   "metadata": {},
   "source": [
    "<H1 span style=\"font-family:garamond; font-size:4em; text-align:center; color:#CB5C29\">WELCOME HOME REALTY</H1>"
   ]
  },
  {
   "cell_type": "markdown",
   "id": "eb3eb91e",
   "metadata": {},
   "source": [
    "<H2 span style=\"font-family:garamond; font-size:3em; text-align:center; color:#CB5C29\">Listing Price Calculator</H2>"
   ]
  },
  {
   "cell_type": "markdown",
   "id": "d69a985b",
   "metadata": {},
   "source": [
    "<H3 span style=\"font-family:garamond; font-size:2em; text-align:center; color:#76424D\">Please input the following information to produce a predicted listing price:</H3>"
   ]
  },
  {
   "cell_type": "code",
   "execution_count": 1,
   "id": "fd870fd7",
   "metadata": {},
   "outputs": [],
   "source": [
    "# Imports\n",
    "\n",
    "# User Interface\n",
    "from ipywidgets import widgets  \n",
    "from IPython.display import display, clear_output\n",
    "from IPython.display import Markdown as md\n",
    "\n",
    "# Data Visual Themes\n",
    "import seaborn as sns\n",
    "sns.set_theme(palette=\"flare\")\n",
    "\n",
    "# Utility Libraries\n",
    "import numpy as np\n",
    "import pandas as pd\n",
    "import matplotlib.pyplot as plt\n",
    "%matplotlib inline\n",
    "\n",
    "# Data Exploration\n",
    "from sklearn.feature_selection import mutual_info_regression\n",
    "from scipy import stats\n",
    "\n",
    "# Model Building\n",
    "from sklearn.model_selection import train_test_split\n",
    "from sklearn.ensemble import RandomForestRegressor\n",
    "\n",
    "# Model Scoring\n",
    "from sklearn.metrics import mean_absolute_error, r2_score\n",
    "\n",
    "# Remove Warnings\n",
    "import warnings\n",
    "warnings.filterwarnings('ignore')"
   ]
  },
  {
   "cell_type": "code",
   "execution_count": 2,
   "id": "3814530b",
   "metadata": {},
   "outputs": [],
   "source": [
    "# Create Form Input Boxes\n",
    "bed = widgets.Text(description = \"Bedrooms\")\n",
    "bath = widgets.Text(description = \"Bathrooms\")\n",
    "acre = widgets.Text(description = \"Acres\")\n",
    "zip_code = widgets.Text(description = \"Zip Code\")\n",
    "house_size = widgets.Text(description = \"House Sqft\")\n",
    "\n",
    "\n",
    "# Create Button\n",
    "submit_button = widgets.Button(\n",
    "    description='Predict Price',\n",
    "    disabled=False,\n",
    "    button_style='success',\n",
    "    tooltip='Get Predicted Listing Price',\n",
    "    icon='check'\n",
    ")\n",
    "\n",
    "result = widgets.Output()"
   ]
  },
  {
   "cell_type": "code",
   "execution_count": 3,
   "id": "2b8d06df",
   "metadata": {},
   "outputs": [],
   "source": [
    "# Run Prediction Once Button is Clicked\n",
    "def on_button_clicked(b):\n",
    "    with result:\n",
    "        clear_output()\n",
    "        predict_listing_price()\n",
    "\n",
    "submit_button.on_click(on_button_clicked)"
   ]
  },
  {
   "cell_type": "code",
   "execution_count": 4,
   "id": "937eeae5",
   "metadata": {},
   "outputs": [],
   "source": [
    "# Prediction Function\n",
    "def predict_listing_price():\n",
    "    \n",
    "    # Gather Form Inputs\n",
    "    bed_val = bed.value\n",
    "    bath_val = bath.value\n",
    "    acre_val = acre.value\n",
    "    zip_code_val = zip_code.value\n",
    "    house_size_val = house_size.value    \n",
    "    \n",
    "    # Print Submited Results\n",
    "    print(\"For a Home with the Following Values:\")\n",
    "    print(\"Bed:\", bed_val)\n",
    "    print(\"Bath:\", bath_val)\n",
    "    print(\"Acres:\", acre_val)\n",
    "    print(\"Zip Code:\", zip_code_val)\n",
    "    print(\"House Size in Square Feet:\", house_size_val)\n",
    "    \n",
    "    # Create Dataframe From Input\n",
    "    df_pred = pd.DataFrame([pd.Series([bed_val, bath_val, acre_val, zip_code_val, house_size_val])])\n",
    "\n",
    "    # Run Through Prediction Model\n",
    "    prediction = model.predict(df_pred)\n",
    "    pred_int = int(prediction)\n",
    "    \n",
    "    # Print the Prediction\n",
    "    print()\n",
    "    print(f'The Predicted Price of Your Listing Is: ${pred_int:.2f}')\n",
    "    \n",
    "    # Adding and Subtracting Mean Absolute Value\n",
    "    over_pred = pred_int + mae\n",
    "    under_pred = pred_int - mae\n",
    "    print()\n",
    "    print(f'As Our Current Mean Absolute Error Is: ${mae:.2f},')\n",
    "    print(f'We Would Suggest a Listing Price Range of: ${under_pred:.2f}-${over_pred:.2f}')"
   ]
  },
  {
   "cell_type": "code",
   "execution_count": 5,
   "id": "bc7df218",
   "metadata": {
    "scrolled": false
   },
   "outputs": [
    {
     "data": {
      "application/vnd.jupyter.widget-view+json": {
       "model_id": "6a5714c2a6e74a56b3179495e10bcf7d",
       "version_major": 2,
       "version_minor": 0
      },
      "text/plain": [
       "Text(value='', description='Bedrooms')"
      ]
     },
     "metadata": {},
     "output_type": "display_data"
    },
    {
     "data": {
      "application/vnd.jupyter.widget-view+json": {
       "model_id": "3e2f9f7a969c4566a97068661fb0be39",
       "version_major": 2,
       "version_minor": 0
      },
      "text/plain": [
       "Text(value='', description='Bathrooms')"
      ]
     },
     "metadata": {},
     "output_type": "display_data"
    },
    {
     "data": {
      "application/vnd.jupyter.widget-view+json": {
       "model_id": "4fa24a5826b34a3294d77007fd427209",
       "version_major": 2,
       "version_minor": 0
      },
      "text/plain": [
       "Text(value='', description='Acres')"
      ]
     },
     "metadata": {},
     "output_type": "display_data"
    },
    {
     "data": {
      "application/vnd.jupyter.widget-view+json": {
       "model_id": "e4cb1db5ea3949aea65a929f6276f257",
       "version_major": 2,
       "version_minor": 0
      },
      "text/plain": [
       "Text(value='', description='Zip Code')"
      ]
     },
     "metadata": {},
     "output_type": "display_data"
    },
    {
     "data": {
      "application/vnd.jupyter.widget-view+json": {
       "model_id": "ed40b31aeb3a4125be96cb97eab57e88",
       "version_major": 2,
       "version_minor": 0
      },
      "text/plain": [
       "Text(value='', description='House Sqft')"
      ]
     },
     "metadata": {},
     "output_type": "display_data"
    },
    {
     "name": "stdout",
     "output_type": "stream",
     "text": [
      "\n"
     ]
    },
    {
     "data": {
      "application/vnd.jupyter.widget-view+json": {
       "model_id": "8cfe65c5be3d46bcbaf105e7834c1e64",
       "version_major": 2,
       "version_minor": 0
      },
      "text/plain": [
       "Button(button_style='success', description='Predict Price', icon='check', style=ButtonStyle(), tooltip='Get Pr…"
      ]
     },
     "metadata": {},
     "output_type": "display_data"
    },
    {
     "data": {
      "application/vnd.jupyter.widget-view+json": {
       "model_id": "d9ae34633dcc4e2e9624d12891eb4c76",
       "version_major": 2,
       "version_minor": 0
      },
      "text/plain": [
       "Output()"
      ]
     },
     "metadata": {},
     "output_type": "display_data"
    }
   ],
   "source": [
    "# Display Form\n",
    "display(bed, bath, acre, zip_code, house_size)\n",
    "print()\n",
    "\n",
    "# Display the Submit Button\n",
    "display(submit_button, result)"
   ]
  },
  {
   "cell_type": "markdown",
   "id": "78cd0940",
   "metadata": {},
   "source": [
    "<hr style=\"border:2px solid; color:#CB5C29\">"
   ]
  },
  {
   "cell_type": "markdown",
   "id": "501c0439",
   "metadata": {},
   "source": [
    "<H2 span style=\"font-family:garamond; font-size:3em; text-align:center; color:#CB5C29\">Frequently Asked Questions</H2>"
   ]
  },
  {
   "cell_type": "markdown",
   "id": "47a3a7b2",
   "metadata": {},
   "source": [
    "<H3 span style=\"font-family:garamond; font-size:2.5em; text-align:center; color:#CB5C29\">How up to date is the data?</H3>"
   ]
  },
  {
   "cell_type": "markdown",
   "id": "fd492e96",
   "metadata": {},
   "source": [
    "<p span style=\"font-family:garamond; font-size:22px; text-align:left; color:#76424D\">We pull data from the <a href = \"https://www.kaggle.com/datasets/ahmedshahriarsakib/usa-real-estate-dataset\">USA Real Estate Dataset</a> hosted on <a href = \"https://www.kaggle.com/\">Kaggle.com</a>, which is updated weekly from data pulled from <a href = \"https://www.realtor.com/\">Realtor.com</a>.</p>\n",
    "\n",
    "<p span style=\"font-family:garamond; font-size:22px; text-align:left; color:#76424D\">Below is a preview of the data pulled most recently:</p>"
   ]
  },
  {
   "cell_type": "code",
   "execution_count": 6,
   "id": "fc9666b8",
   "metadata": {
    "scrolled": true
   },
   "outputs": [],
   "source": [
    "# Create Dataframe & Get Starting Length\n",
    "df = pd.read_csv('Static/cleaned-data.csv')\n",
    "starting_length = len(df)"
   ]
  },
  {
   "cell_type": "code",
   "execution_count": 7,
   "id": "feece9dc",
   "metadata": {},
   "outputs": [
    {
     "data": {
      "text/html": [
       "<div>\n",
       "<style scoped>\n",
       "    .dataframe tbody tr th:only-of-type {\n",
       "        vertical-align: middle;\n",
       "    }\n",
       "\n",
       "    .dataframe tbody tr th {\n",
       "        vertical-align: top;\n",
       "    }\n",
       "\n",
       "    .dataframe thead th {\n",
       "        text-align: right;\n",
       "    }\n",
       "</style>\n",
       "<table border=\"1\" class=\"dataframe\">\n",
       "  <thead>\n",
       "    <tr style=\"text-align: right;\">\n",
       "      <th></th>\n",
       "      <th>price</th>\n",
       "      <th>bed</th>\n",
       "      <th>bath</th>\n",
       "      <th>acre_lot</th>\n",
       "      <th>zip_code</th>\n",
       "      <th>house_size</th>\n",
       "      <th>year</th>\n",
       "      <th>month</th>\n",
       "    </tr>\n",
       "  </thead>\n",
       "  <tbody>\n",
       "    <tr>\n",
       "      <th>0</th>\n",
       "      <td>289000.0</td>\n",
       "      <td>1.0</td>\n",
       "      <td>1.0</td>\n",
       "      <td>0.13</td>\n",
       "      <td>7866.0</td>\n",
       "      <td>915.0</td>\n",
       "      <td>2000</td>\n",
       "      <td>1</td>\n",
       "    </tr>\n",
       "    <tr>\n",
       "      <th>1</th>\n",
       "      <td>425000.0</td>\n",
       "      <td>3.0</td>\n",
       "      <td>2.0</td>\n",
       "      <td>0.31</td>\n",
       "      <td>8816.0</td>\n",
       "      <td>1336.0</td>\n",
       "      <td>2000</td>\n",
       "      <td>1</td>\n",
       "    </tr>\n",
       "    <tr>\n",
       "      <th>2</th>\n",
       "      <td>289000.0</td>\n",
       "      <td>1.0</td>\n",
       "      <td>1.0</td>\n",
       "      <td>0.13</td>\n",
       "      <td>7866.0</td>\n",
       "      <td>915.0</td>\n",
       "      <td>2000</td>\n",
       "      <td>1</td>\n",
       "    </tr>\n",
       "    <tr>\n",
       "      <th>3</th>\n",
       "      <td>289000.0</td>\n",
       "      <td>1.0</td>\n",
       "      <td>1.0</td>\n",
       "      <td>0.13</td>\n",
       "      <td>7866.0</td>\n",
       "      <td>915.0</td>\n",
       "      <td>2000</td>\n",
       "      <td>1</td>\n",
       "    </tr>\n",
       "    <tr>\n",
       "      <th>4</th>\n",
       "      <td>949900.0</td>\n",
       "      <td>5.0</td>\n",
       "      <td>5.0</td>\n",
       "      <td>5.04</td>\n",
       "      <td>7830.0</td>\n",
       "      <td>4508.0</td>\n",
       "      <td>2000</td>\n",
       "      <td>1</td>\n",
       "    </tr>\n",
       "    <tr>\n",
       "      <th>...</th>\n",
       "      <td>...</td>\n",
       "      <td>...</td>\n",
       "      <td>...</td>\n",
       "      <td>...</td>\n",
       "      <td>...</td>\n",
       "      <td>...</td>\n",
       "      <td>...</td>\n",
       "      <td>...</td>\n",
       "    </tr>\n",
       "    <tr>\n",
       "      <th>41311</th>\n",
       "      <td>753750.0</td>\n",
       "      <td>3.0</td>\n",
       "      <td>2.0</td>\n",
       "      <td>1.00</td>\n",
       "      <td>8210.0</td>\n",
       "      <td>2188.0</td>\n",
       "      <td>2022</td>\n",
       "      <td>9</td>\n",
       "    </tr>\n",
       "    <tr>\n",
       "      <th>41312</th>\n",
       "      <td>1985000.0</td>\n",
       "      <td>5.0</td>\n",
       "      <td>4.0</td>\n",
       "      <td>0.22</td>\n",
       "      <td>8204.0</td>\n",
       "      <td>2576.0</td>\n",
       "      <td>2022</td>\n",
       "      <td>10</td>\n",
       "    </tr>\n",
       "    <tr>\n",
       "      <th>41313</th>\n",
       "      <td>1985000.0</td>\n",
       "      <td>5.0</td>\n",
       "      <td>4.0</td>\n",
       "      <td>0.22</td>\n",
       "      <td>8204.0</td>\n",
       "      <td>2576.0</td>\n",
       "      <td>2022</td>\n",
       "      <td>10</td>\n",
       "    </tr>\n",
       "    <tr>\n",
       "      <th>41314</th>\n",
       "      <td>720900.0</td>\n",
       "      <td>3.0</td>\n",
       "      <td>2.0</td>\n",
       "      <td>1.00</td>\n",
       "      <td>8210.0</td>\n",
       "      <td>2188.0</td>\n",
       "      <td>2022</td>\n",
       "      <td>10</td>\n",
       "    </tr>\n",
       "    <tr>\n",
       "      <th>41315</th>\n",
       "      <td>1985000.0</td>\n",
       "      <td>5.0</td>\n",
       "      <td>4.0</td>\n",
       "      <td>0.22</td>\n",
       "      <td>8204.0</td>\n",
       "      <td>2576.0</td>\n",
       "      <td>2022</td>\n",
       "      <td>10</td>\n",
       "    </tr>\n",
       "  </tbody>\n",
       "</table>\n",
       "<p>41316 rows × 8 columns</p>\n",
       "</div>"
      ],
      "text/plain": [
       "           price  bed  bath  acre_lot  zip_code  house_size  year  month\n",
       "0       289000.0  1.0   1.0      0.13    7866.0       915.0  2000      1\n",
       "1       425000.0  3.0   2.0      0.31    8816.0      1336.0  2000      1\n",
       "2       289000.0  1.0   1.0      0.13    7866.0       915.0  2000      1\n",
       "3       289000.0  1.0   1.0      0.13    7866.0       915.0  2000      1\n",
       "4       949900.0  5.0   5.0      5.04    7830.0      4508.0  2000      1\n",
       "...          ...  ...   ...       ...       ...         ...   ...    ...\n",
       "41311   753750.0  3.0   2.0      1.00    8210.0      2188.0  2022      9\n",
       "41312  1985000.0  5.0   4.0      0.22    8204.0      2576.0  2022     10\n",
       "41313  1985000.0  5.0   4.0      0.22    8204.0      2576.0  2022     10\n",
       "41314   720900.0  3.0   2.0      1.00    8210.0      2188.0  2022     10\n",
       "41315  1985000.0  5.0   4.0      0.22    8204.0      2576.0  2022     10\n",
       "\n",
       "[41316 rows x 8 columns]"
      ]
     },
     "execution_count": 7,
     "metadata": {},
     "output_type": "execute_result"
    }
   ],
   "source": [
    "# Print First 5 Data Entries\n",
    "df"
   ]
  },
  {
   "cell_type": "code",
   "execution_count": 8,
   "id": "183e6905",
   "metadata": {},
   "outputs": [
    {
     "name": "stdout",
     "output_type": "stream",
     "text": [
      "There are a total of 41316 entries!\n"
     ]
    }
   ],
   "source": [
    "# Print Starting Length of DataFrame\n",
    "print(\"There are a total of\", starting_length, \"entries!\")"
   ]
  },
  {
   "cell_type": "markdown",
   "id": "73c92a1e",
   "metadata": {},
   "source": [
    "<hr style=\"border:2px solid; color:#CB5C29\">"
   ]
  },
  {
   "cell_type": "markdown",
   "id": "8e0ff371",
   "metadata": {},
   "source": [
    "<H1>Experimenting</H1>"
   ]
  },
  {
   "cell_type": "code",
   "execution_count": 9,
   "id": "d494e5dc",
   "metadata": {},
   "outputs": [],
   "source": [
    "df_yearly_averages = df.groupby(['year'])['price'].mean()"
   ]
  },
  {
   "cell_type": "code",
   "execution_count": 10,
   "id": "fdd9152d",
   "metadata": {},
   "outputs": [
    {
     "data": {
      "text/plain": [
       "year\n",
       "2000    536337.725191\n",
       "2001    540842.936433\n",
       "2002    519026.794737\n",
       "2003    487765.600297\n",
       "2004    445109.712963\n",
       "Name: price, dtype: float64"
      ]
     },
     "execution_count": 10,
     "metadata": {},
     "output_type": "execute_result"
    }
   ],
   "source": [
    "df_yearly_averages.head()"
   ]
  },
  {
   "cell_type": "code",
   "execution_count": 11,
   "id": "7db626c2",
   "metadata": {},
   "outputs": [
    {
     "data": {
      "image/png": "[encoded data removed]",
      "text/plain": [
       "<Figure size 1080x576 with 1 Axes>"
      ]
     },
     "metadata": {
      "needs_background": "light"
     },
     "output_type": "display_data"
    }
   ],
   "source": [
    "df_yearly_averages.plot(kind=\"bar\", figsize=(15,8))\n",
    "\n",
    "plt.title(\"Yearly Home Price Averages\", fontsize=30)\n",
    "plt.xticks(fontsize = 18)\n",
    "plt.yticks(fontsize = 20)\n",
    "plt.xlabel(\"Year\", fontsize=22)\n",
    "plt.ylabel(\"Average Price\", fontsize = 22);"
   ]
  },
  {
   "cell_type": "code",
   "execution_count": 12,
   "id": "0f1dc1f2",
   "metadata": {},
   "outputs": [],
   "source": [
    "df_monthly_averages = df.groupby(['month'])['price'].mean()"
   ]
  },
  {
   "cell_type": "code",
   "execution_count": 13,
   "id": "5fbd602d",
   "metadata": {},
   "outputs": [],
   "source": [
    "df_monthly_averages = pd.DataFrame(df_monthly_averages)"
   ]
  },
  {
   "cell_type": "code",
   "execution_count": 14,
   "id": "36a16b50",
   "metadata": {},
   "outputs": [],
   "source": [
    "months = ['January', 'February', 'March', 'April', 'May', 'June', 'July', 'August', 'September', 'October', 'November', 'December']"
   ]
  },
  {
   "cell_type": "code",
   "execution_count": 15,
   "id": "89601e2c",
   "metadata": {},
   "outputs": [],
   "source": [
    "df_monthly_averages.insert(1, \"months\", months, True)"
   ]
  },
  {
   "cell_type": "code",
   "execution_count": 16,
   "id": "978d4a88",
   "metadata": {},
   "outputs": [
    {
     "data": {
      "text/html": [
       "<div>\n",
       "<style scoped>\n",
       "    .dataframe tbody tr th:only-of-type {\n",
       "        vertical-align: middle;\n",
       "    }\n",
       "\n",
       "    .dataframe tbody tr th {\n",
       "        vertical-align: top;\n",
       "    }\n",
       "\n",
       "    .dataframe thead th {\n",
       "        text-align: right;\n",
       "    }\n",
       "</style>\n",
       "<table border=\"1\" class=\"dataframe\">\n",
       "  <thead>\n",
       "    <tr style=\"text-align: right;\">\n",
       "      <th></th>\n",
       "      <th>price</th>\n",
       "      <th>months</th>\n",
       "    </tr>\n",
       "    <tr>\n",
       "      <th>month</th>\n",
       "      <th></th>\n",
       "      <th></th>\n",
       "    </tr>\n",
       "  </thead>\n",
       "  <tbody>\n",
       "    <tr>\n",
       "      <th>1</th>\n",
       "      <td>484128.312379</td>\n",
       "      <td>January</td>\n",
       "    </tr>\n",
       "    <tr>\n",
       "      <th>2</th>\n",
       "      <td>451101.484121</td>\n",
       "      <td>February</td>\n",
       "    </tr>\n",
       "    <tr>\n",
       "      <th>3</th>\n",
       "      <td>503576.713505</td>\n",
       "      <td>March</td>\n",
       "    </tr>\n",
       "    <tr>\n",
       "      <th>4</th>\n",
       "      <td>474135.568580</td>\n",
       "      <td>April</td>\n",
       "    </tr>\n",
       "    <tr>\n",
       "      <th>5</th>\n",
       "      <td>495480.321032</td>\n",
       "      <td>May</td>\n",
       "    </tr>\n",
       "    <tr>\n",
       "      <th>6</th>\n",
       "      <td>516982.383478</td>\n",
       "      <td>June</td>\n",
       "    </tr>\n",
       "    <tr>\n",
       "      <th>7</th>\n",
       "      <td>490516.554871</td>\n",
       "      <td>July</td>\n",
       "    </tr>\n",
       "    <tr>\n",
       "      <th>8</th>\n",
       "      <td>511675.523458</td>\n",
       "      <td>August</td>\n",
       "    </tr>\n",
       "    <tr>\n",
       "      <th>9</th>\n",
       "      <td>500667.929298</td>\n",
       "      <td>September</td>\n",
       "    </tr>\n",
       "    <tr>\n",
       "      <th>10</th>\n",
       "      <td>475649.738051</td>\n",
       "      <td>October</td>\n",
       "    </tr>\n",
       "    <tr>\n",
       "      <th>11</th>\n",
       "      <td>491080.144563</td>\n",
       "      <td>November</td>\n",
       "    </tr>\n",
       "    <tr>\n",
       "      <th>12</th>\n",
       "      <td>510895.179648</td>\n",
       "      <td>December</td>\n",
       "    </tr>\n",
       "  </tbody>\n",
       "</table>\n",
       "</div>"
      ],
      "text/plain": [
       "               price     months\n",
       "month                          \n",
       "1      484128.312379    January\n",
       "2      451101.484121   February\n",
       "3      503576.713505      March\n",
       "4      474135.568580      April\n",
       "5      495480.321032        May\n",
       "6      516982.383478       June\n",
       "7      490516.554871       July\n",
       "8      511675.523458     August\n",
       "9      500667.929298  September\n",
       "10     475649.738051    October\n",
       "11     491080.144563   November\n",
       "12     510895.179648   December"
      ]
     },
     "execution_count": 16,
     "metadata": {},
     "output_type": "execute_result"
    }
   ],
   "source": [
    "df_monthly_averages"
   ]
  },
  {
   "cell_type": "code",
   "execution_count": 17,
   "id": "f43c615b",
   "metadata": {},
   "outputs": [
    {
     "data": {
      "image/png": "[encoded data removed]",
      "text/plain": [
       "<Figure size 1080x576 with 1 Axes>"
      ]
     },
     "metadata": {
      "needs_background": "light"
     },
     "output_type": "display_data"
    }
   ],
   "source": [
    "df_monthly_averages.plot(kind=\"line\", figsize=(15,8))\n",
    "\n",
    "plt.title(\"Monthly Home Price Averages\", fontsize=32)\n",
    "plt.xticks(df_monthly_averages.index, df_monthly_averages.months, fontsize = 13)\n",
    "plt.yticks(fontsize = 15)\n",
    "plt.xlabel(\"Month\", fontsize=20)\n",
    "plt.ylabel(\"Average Price\", fontsize = 20);"
   ]
  },
  {
   "cell_type": "markdown",
   "id": "07bb209c",
   "metadata": {},
   "source": [
    "<hr style=\"border:2px solid; color:#CB5C29\">"
   ]
  },
  {
   "cell_type": "markdown",
   "id": "e15c3d42",
   "metadata": {},
   "source": [
    "<H3 span style=\"font-family:garamond; font-size:2.5em; text-align:center; color:#CB5C29\">How do we predict the price?</H3>"
   ]
  },
  {
   "cell_type": "markdown",
   "id": "fde2a483",
   "metadata": {},
   "source": [
    "<p span style=\"font-family:garamond; font-size:22px; text-align:left; color:#76424D\">We take many steps to create a highly accurate price prediction for your listings:</p>\n",
    "\n",
    "<ol span style=\"font-family:garamond; font-size:18px; color:#76424D\">\n",
    "    <li>Create Dataframe From Weekly Updated Data</li>\n",
    "    <li>Clean Data By Removing Unecessary Features and Missing Data</li>\n",
    "    <li>Select Most Important Features That Affect Price</li>\n",
    "    <li>Remove Outliers That Can Skew Results</li>\n",
    "    <li>Train the Predictor Model to 80% of the Remaining Data</li>\n",
    "    <li>Test the Other 20% of Data Through Predictor for Accuracy</li>\n",
    "    <li>Allow You to Input Information to Create a Prediction</li>\n",
    "</ol>"
   ]
  },
  {
   "cell_type": "markdown",
   "id": "046dfe20",
   "metadata": {},
   "source": [
    "<hr style=\"border:2px solid; color:#CB5C29\">"
   ]
  },
  {
   "cell_type": "markdown",
   "id": "abd68cd0",
   "metadata": {},
   "source": [
    "<H3 span style=\"font-family:garamond; font-size:2.5em; text-align:center; color:#CB5C29\">What affects listing prices?</H3>"
   ]
  },
  {
   "cell_type": "markdown",
   "id": "a8ccd283",
   "metadata": {},
   "source": [
    "<p span style=\"font-family:garamond; font-size:22px; text-align:left; color:#76424D\">We run the data through various testing to see the factors that are most likely to affect the price of the listings. <br>\n",
    "    <br>See below graph to show the different features of a home that most affect its pricing:</p>"
   ]
  },
  {
   "cell_type": "code",
   "execution_count": 18,
   "id": "ee873aa9",
   "metadata": {},
   "outputs": [],
   "source": [
    "# Set Up X & Y\n",
    "X = df.drop([\"price\", \"year\", \"month\"], axis=1)\n",
    "y = df[\"price\"]"
   ]
  },
  {
   "cell_type": "code",
   "execution_count": 19,
   "id": "80c3afe9",
   "metadata": {},
   "outputs": [],
   "source": [
    "# Get Mutual Information Score\n",
    "def get_mi_score(X,y):\n",
    "    X = X\n",
    "    disc_feat = [pd.api.types.is_integer_dtype(t) for t in X.dtypes]\n",
    "    mut_info_score = mutual_info_regression(X,y,discrete_features=disc_feat, random_state=42)\n",
    "    mut_info_score = pd.Series(mut_info_score,name=\"Mutual Information Score\",index=X.columns)\n",
    "    mut_info_score = mut_info_score.sort_values(ascending=False)\n",
    "    return mut_info_score\n",
    "\n",
    "mut_info_score = get_mi_score(X,y)"
   ]
  },
  {
   "cell_type": "code",
   "execution_count": 20,
   "id": "1f5ed7e5",
   "metadata": {
    "scrolled": true
   },
   "outputs": [
    {
     "data": {
      "image/png": "[encoded data removed]",
      "text/plain": [
       "<Figure size 432x288 with 1 Axes>"
      ]
     },
     "metadata": {
      "needs_background": "light"
     },
     "output_type": "display_data"
    }
   ],
   "source": [
    "# Plot the Mutual Information Score\n",
    "def plot_score(score):\n",
    "    score = score.sort_values(ascending = True)\n",
    "    height = np.arange(len(score))\n",
    "    ticks = list(score.index)\n",
    "    plt.bar(height,score)\n",
    "    plt.yticks(height,ticks)\n",
    "    plt.title('Mutual Information Score')\n",
    "\n",
    "plot_score(mut_info_score)"
   ]
  },
  {
   "cell_type": "markdown",
   "id": "a83820a1",
   "metadata": {},
   "source": [
    "<p span style=\"font-family:garamond; font-size:22px; text-align:left; color:#76424D\">The above graph displays the mutual information score between the features of a home and the price. <br>\n",
    "<br>The higher the mutual information score, the more dependent on the feature the price is. <br>\n",
    "    Therefore, the house size and zip code have the highest impact on the price whereas the number of bedrooms and affect price the least.</p>"
   ]
  },
  {
   "cell_type": "markdown",
   "id": "2d7a0b50",
   "metadata": {},
   "source": [
    "<hr style=\"border:2px solid; color:#CB5C29\">"
   ]
  },
  {
   "cell_type": "markdown",
   "id": "fb2c91d0",
   "metadata": {},
   "source": [
    "<H3 span style=\"font-family:garamond; font-size:2.5em; text-align:center; color:#CB5C29\">How accurate are the pricing predictions?</H3>"
   ]
  },
  {
   "cell_type": "markdown",
   "id": "dd3de899",
   "metadata": {},
   "source": [
    "<p span style=\"font-family:garamond; font-size:22px; text-align:left; color:#76424D\">By reducing the unnecessary features and missing data, we have increased the prediction's accuracy. <br>\n",
    "    <br>In addition to these steps, we will also run a \"Z-Score\" test and remove any outliers outside of a given threshold to remove any items that could skew the results.</p>\n",
    "<hr>"
   ]
  },
  {
   "cell_type": "markdown",
   "id": "8485868d",
   "metadata": {},
   "source": [
    "<H2 span style=\"font-family:garamond; font-size:2em; text-align:center; color:#CB5C29\">Running the Data Through the Predictor</H2>"
   ]
  },
  {
   "cell_type": "markdown",
   "id": "a286083a",
   "metadata": {},
   "source": [
    "<p span style=\"font-family:garamond; font-size:22px; text-align:left; color:#76424D\">After cleaning the data, we are finally ready to run the data through our model to \"train\" it to make accurate predictions.</p>"
   ]
  },
  {
   "cell_type": "code",
   "execution_count": 21,
   "id": "10f5ec42",
   "metadata": {},
   "outputs": [],
   "source": [
    "# Set X & y\n",
    "X = df.drop([\"price\",\"year\",\"month\"], axis = 1)\n",
    "y = df[\"price\"]\n",
    "\n",
    "# Set X_train, X_test, y_train, y_test\n",
    "X_train, X_test, y_train, y_test = train_test_split(X, y, test_size = 0.2)\n",
    "\n",
    "# Set Random Seed\n",
    "np.random.seed(42)\n",
    "\n",
    "# Create and Fit Model\n",
    "model = RandomForestRegressor()\n",
    "model.fit(X_train.values, y_train)\n",
    "\n",
    "# Test Model\n",
    "model_pred = model.predict(X_test)\n",
    "\n",
    "# Get Test Scores\n",
    "mae = mean_absolute_error(y_test, model_pred)\n",
    "r2 = r2_score(y_test, model_pred)\n",
    "r2_percent = r2*100"
   ]
  },
  {
   "cell_type": "markdown",
   "id": "3e5c9204",
   "metadata": {},
   "source": [
    "<hr>"
   ]
  },
  {
   "cell_type": "markdown",
   "id": "2315b5d7",
   "metadata": {},
   "source": [
    "<H2 span style=\"font-family:garamond; font-size:2em; text-align:center; color:#CB5C29\">Final Accuracy Score Results</H2>"
   ]
  },
  {
   "cell_type": "markdown",
   "id": "308514d4",
   "metadata": {},
   "source": [
    "<p span style=\"font-family:garamond; font-size:22px; text-align:left; color:#76424D\">Below is the accuracy score for today's listing price predictor:</p>"
   ]
  },
  {
   "cell_type": "code",
   "execution_count": 22,
   "id": "5fd0172d",
   "metadata": {
    "scrolled": true
   },
   "outputs": [
    {
     "name": "stdout",
     "output_type": "stream",
     "text": [
      "The accuracy of this listing price predictor is: 98.43%\n",
      "On average, this listing price predictor is $ 10097.84 off of any given price.\n"
     ]
    }
   ],
   "source": [
    "# Print Prediction Accuracy\n",
    "print(f\"The accuracy of this listing price predictor is: {r2_percent:.2f}%\")\n",
    "print(f\"On average, this listing price predictor is $ {mae:.2f} off of any given price.\")"
   ]
  },
  {
   "cell_type": "markdown",
   "id": "b0fda735",
   "metadata": {},
   "source": [
    "<p span style=\"font-family:garamond; font-size:22px; text-align:left; color:#76424D\">We run our prediction model at an average accuracy of at least 98% percent!</p>"
   ]
  },
  {
   "cell_type": "markdown",
   "id": "4b30d749",
   "metadata": {},
   "source": [
    "<hr style=\"border:2px solid; color:#CB5C29\">"
   ]
  }
 ],
 "metadata": {
  "kernelspec": {
   "display_name": "Python 3 (ipykernel)",
   "language": "python",
   "name": "python3"
  },
  "language_info": {
   "codemirror_mode": {
    "name": "ipython",
    "version": 3
   },
   "file_extension": ".py",
   "mimetype": "text/x-python",
   "name": "python",
   "nbconvert_exporter": "python",
   "pygments_lexer": "ipython3",
   "version": "3.9.12"
  }
 },
 "nbformat": 4,
 "nbformat_minor": 5
}
