{
 "cells": [
  {
   "cell_type": "markdown",
   "id": "7f7fd12e",
   "metadata": {},
   "source": [
    "<H1 span style=\"font-family:garamond; font-size:4em; text-align:center; color:#CB5C29\">WELCOME HOME REALTY</H1>"
   ]
  },
  {
   "cell_type": "markdown",
   "id": "eb3eb91e",
   "metadata": {},
   "source": [
    "<H2 span style=\"font-family:garamond; font-size:3em; text-align:center; color:#CB5C29\">Listing Price Calculator</H2>"
   ]
  },
  {
   "cell_type": "markdown",
   "id": "d69a985b",
   "metadata": {},
   "source": [
    "<H3 span style=\"font-family:garamond; font-size:2em; text-align:center; color:#76424D\">Please input the following information to produce a predicted listing price:</H3>"
   ]
  },
  {
   "cell_type": "code",
   "execution_count": 1,
   "id": "fd870fd7",
   "metadata": {},
   "outputs": [],
   "source": [
    "# Imports\n",
    "\n",
    "# User Interface\n",
    "from ipywidgets import widgets  \n",
    "from __future__ import print_function\n",
    "from IPython.display import display, clear_output\n",
    "from IPython.display import Markdown as md\n",
    "\n",
    "# Data Visual Themes\n",
    "import seaborn as sns\n",
    "sns.set_theme(palette=\"flare\")\n",
    "\n",
    "# Utility Libraries\n",
    "import numpy as np\n",
    "import pandas as pd\n",
    "import matplotlib.pyplot as plt\n",
    "%matplotlib inline\n",
    "\n",
    "# Data Exploration\n",
    "from sklearn.feature_selection import mutual_info_regression\n",
    "from scipy import stats\n",
    "\n",
    "# Model Building\n",
    "from sklearn.model_selection import train_test_split\n",
    "from sklearn.ensemble import RandomForestRegressor\n",
    "\n",
    "# Model Scoring\n",
    "from sklearn.metrics import mean_absolute_error, r2_score\n",
    "\n",
    "# Remove Warnings\n",
    "import warnings\n",
    "warnings.filterwarnings('ignore')"
   ]
  },
  {
   "cell_type": "code",
   "execution_count": 2,
   "id": "3814530b",
   "metadata": {},
   "outputs": [],
   "source": [
    "# Create Form Input Boxes\n",
    "bed = widgets.Text(description = \"Bedrooms\")\n",
    "bath = widgets.Text(description = \"Bathrooms\")\n",
    "acre = widgets.Text(description = \"Acres\")\n",
    "zip_code = widgets.Text(description = \"Zip Code\")\n",
    "house_size = widgets.Text(description = \"House Sqft\")\n",
    "\n",
    "\n",
    "# Create Button\n",
    "submit_button = widgets.Button(\n",
    "    description='Predict Price',\n",
    "    disabled=False,\n",
    "    button_style='success',\n",
    "    tooltip='Get Predicted Listing Price',\n",
    "    icon='check'\n",
    ")\n",
    "\n",
    "result = widgets.Output()"
   ]
  },
  {
   "cell_type": "code",
   "execution_count": 3,
   "id": "2b8d06df",
   "metadata": {},
   "outputs": [],
   "source": [
    "# Run Prediction Once Button is Clicked\n",
    "def on_button_clicked(b):\n",
    "    with result:\n",
    "        clear_output()\n",
    "        predict_listing_price()\n",
    "\n",
    "submit_button.on_click(on_button_clicked)"
   ]
  },
  {
   "cell_type": "code",
   "execution_count": 4,
   "id": "937eeae5",
   "metadata": {},
   "outputs": [],
   "source": [
    "# Prediction Function\n",
    "def predict_listing_price():\n",
    "    \n",
    "    # Gather Form Inputs\n",
    "    bed_val = bed.value\n",
    "    bath_val = bath.value\n",
    "    acre_val = acre.value\n",
    "    zip_code_val = zip_code.value\n",
    "    house_size_val = house_size.value    \n",
    "    \n",
    "    # Print Submited Results\n",
    "    print(\"For a Home with the Following Values:\")\n",
    "    print(\"Bed:\", bed_val)\n",
    "    print(\"Bath:\", bath_val)\n",
    "    print(\"Acres:\", acre_val)\n",
    "    print(\"Zip Code:\", zip_code_val)\n",
    "    print(\"House Size in Square Feet:\", house_size_val)\n",
    "    \n",
    "    # Create Dataframe From Input\n",
    "    df_pred = pd.DataFrame([pd.Series([bed_val, bath_val, acre_val, zip_code_val, house_size_val])])\n",
    "\n",
    "    # Run Through Prediction Model\n",
    "    prediction = model.predict(df_pred)\n",
    "    pred_int = int(prediction)\n",
    "    \n",
    "    # Print the Prediction\n",
    "    print()\n",
    "    print(f'The Predicted Price of Your Listing Is: ${pred_int:.2f}')\n",
    "    \n",
    "    # Adding and Subtracting Mean Absolute Value\n",
    "    over_pred = pred_int + mae\n",
    "    under_pred = pred_int - mae\n",
    "    print()\n",
    "    print(f'As Our Current Mean Absolute Error Is: ${mae:.2f},')\n",
    "    print(f'We Would Suggest a Listing Price Range of: ${under_pred:.2f}-${over_pred:.2f}')"
   ]
  },
  {
   "cell_type": "code",
   "execution_count": 5,
   "id": "bc7df218",
   "metadata": {
    "scrolled": false
   },
   "outputs": [
    {
     "data": {
      "application/vnd.jupyter.widget-view+json": {
       "model_id": "170d19966cea4a90a73d9205ebb4a403",
       "version_major": 2,
       "version_minor": 0
      },
      "text/plain": [
       "Text(value='', description='Bedrooms')"
      ]
     },
     "metadata": {},
     "output_type": "display_data"
    },
    {
     "data": {
      "application/vnd.jupyter.widget-view+json": {
       "model_id": "e49997a5beb64baba41978241d4e50bc",
       "version_major": 2,
       "version_minor": 0
      },
      "text/plain": [
       "Text(value='', description='Bathrooms')"
      ]
     },
     "metadata": {},
     "output_type": "display_data"
    },
    {
     "data": {
      "application/vnd.jupyter.widget-view+json": {
       "model_id": "9ed1383fa33142fda4642cd83837bb6c",
       "version_major": 2,
       "version_minor": 0
      },
      "text/plain": [
       "Text(value='', description='Acres')"
      ]
     },
     "metadata": {},
     "output_type": "display_data"
    },
    {
     "data": {
      "application/vnd.jupyter.widget-view+json": {
       "model_id": "be7561c730dc4f17bc459441629c707f",
       "version_major": 2,
       "version_minor": 0
      },
      "text/plain": [
       "Text(value='', description='Zip Code')"
      ]
     },
     "metadata": {},
     "output_type": "display_data"
    },
    {
     "data": {
      "application/vnd.jupyter.widget-view+json": {
       "model_id": "4e02cb5ba0c34da688cdd8baa39c1617",
       "version_major": 2,
       "version_minor": 0
      },
      "text/plain": [
       "Text(value='', description='House Sqft')"
      ]
     },
     "metadata": {},
     "output_type": "display_data"
    },
    {
     "name": "stdout",
     "output_type": "stream",
     "text": [
      "\n"
     ]
    },
    {
     "data": {
      "application/vnd.jupyter.widget-view+json": {
       "model_id": "757d8bc487244a3a9c1fcbc5adbe9e3d",
       "version_major": 2,
       "version_minor": 0
      },
      "text/plain": [
       "Button(button_style='success', description='Predict Price', icon='check', style=ButtonStyle(), tooltip='Get Pr…"
      ]
     },
     "metadata": {},
     "output_type": "display_data"
    },
    {
     "data": {
      "application/vnd.jupyter.widget-view+json": {
       "model_id": "c86280baf9fd4a9385bae2e4eac29afa",
       "version_major": 2,
       "version_minor": 0
      },
      "text/plain": [
       "Output()"
      ]
     },
     "metadata": {},
     "output_type": "display_data"
    }
   ],
   "source": [
    "# Display Form\n",
    "display(bed, bath, acre, zip_code, house_size)\n",
    "print()\n",
    "\n",
    "# Display the Submit Button\n",
    "display(submit_button, result)"
   ]
  },
  {
   "cell_type": "markdown",
   "id": "78cd0940",
   "metadata": {},
   "source": [
    "<hr style=\"border:2px solid; color:#CB5C29\">"
   ]
  },
  {
   "cell_type": "markdown",
   "id": "501c0439",
   "metadata": {},
   "source": [
    "<H2 span style=\"font-family:garamond; font-size:3em; text-align:center; color:#CB5C29\">Frequently Asked Questions</H2>"
   ]
  },
  {
   "cell_type": "markdown",
   "id": "47a3a7b2",
   "metadata": {},
   "source": [
    "<H3 span style=\"font-family:garamond; font-size:2.5em; text-align:center; color:#CB5C29\">How up to date is the data?</H3>"
   ]
  },
  {
   "cell_type": "markdown",
   "id": "fd492e96",
   "metadata": {},
   "source": [
    "<p span style=\"font-family:garamond; font-size:22px; text-align:left; color:#76424D\">We pull data from the <a href = \"https://www.kaggle.com/datasets/ahmedshahriarsakib/usa-real-estate-dataset\">USA Real Estate Dataset</a> hosted on <a href = \"https://www.kaggle.com/\">Kaggle.com</a>, which is updated weekly from data pulled from <a href = \"https://www.realtor.com/\">Realtor.com</a>.</p>\n",
    "\n",
    "<p span style=\"font-family:garamond; font-size:22px; text-align:left; color:#76424D\">Below is a preview of the data pulled most recently:</p>"
   ]
  },
  {
   "cell_type": "code",
   "execution_count": 6,
   "id": "fc9666b8",
   "metadata": {
    "scrolled": true
   },
   "outputs": [],
   "source": [
    "# Create Dataframe & Get Starting Length\n",
    "df = pd.read_csv('Static/cleaned-data.csv')\n",
    "starting_length = len(df)"
   ]
  },
  {
   "cell_type": "code",
   "execution_count": 7,
   "id": "feece9dc",
   "metadata": {},
   "outputs": [
    {
     "data": {
      "text/html": [
       "<div>\n",
       "<style scoped>\n",
       "    .dataframe tbody tr th:only-of-type {\n",
       "        vertical-align: middle;\n",
       "    }\n",
       "\n",
       "    .dataframe tbody tr th {\n",
       "        vertical-align: top;\n",
       "    }\n",
       "\n",
       "    .dataframe thead th {\n",
       "        text-align: right;\n",
       "    }\n",
       "</style>\n",
       "<table border=\"1\" class=\"dataframe\">\n",
       "  <thead>\n",
       "    <tr style=\"text-align: right;\">\n",
       "      <th></th>\n",
       "      <th>price</th>\n",
       "      <th>bed</th>\n",
       "      <th>bath</th>\n",
       "      <th>acre_lot</th>\n",
       "      <th>zip_code</th>\n",
       "      <th>house_size</th>\n",
       "      <th>year</th>\n",
       "      <th>month</th>\n",
       "    </tr>\n",
       "  </thead>\n",
       "  <tbody>\n",
       "    <tr>\n",
       "      <th>0</th>\n",
       "      <td>289000.0</td>\n",
       "      <td>1.0</td>\n",
       "      <td>1.0</td>\n",
       "      <td>0.13</td>\n",
       "      <td>7866.0</td>\n",
       "      <td>915.0</td>\n",
       "      <td>2000</td>\n",
       "      <td>1</td>\n",
       "    </tr>\n",
       "    <tr>\n",
       "      <th>1</th>\n",
       "      <td>425000.0</td>\n",
       "      <td>3.0</td>\n",
       "      <td>2.0</td>\n",
       "      <td>0.31</td>\n",
       "      <td>8816.0</td>\n",
       "      <td>1336.0</td>\n",
       "      <td>2000</td>\n",
       "      <td>1</td>\n",
       "    </tr>\n",
       "    <tr>\n",
       "      <th>2</th>\n",
       "      <td>289000.0</td>\n",
       "      <td>1.0</td>\n",
       "      <td>1.0</td>\n",
       "      <td>0.13</td>\n",
       "      <td>7866.0</td>\n",
       "      <td>915.0</td>\n",
       "      <td>2000</td>\n",
       "      <td>1</td>\n",
       "    </tr>\n",
       "    <tr>\n",
       "      <th>3</th>\n",
       "      <td>289000.0</td>\n",
       "      <td>1.0</td>\n",
       "      <td>1.0</td>\n",
       "      <td>0.13</td>\n",
       "      <td>7866.0</td>\n",
       "      <td>915.0</td>\n",
       "      <td>2000</td>\n",
       "      <td>1</td>\n",
       "    </tr>\n",
       "    <tr>\n",
       "      <th>4</th>\n",
       "      <td>949900.0</td>\n",
       "      <td>5.0</td>\n",
       "      <td>5.0</td>\n",
       "      <td>5.04</td>\n",
       "      <td>7830.0</td>\n",
       "      <td>4508.0</td>\n",
       "      <td>2000</td>\n",
       "      <td>1</td>\n",
       "    </tr>\n",
       "    <tr>\n",
       "      <th>...</th>\n",
       "      <td>...</td>\n",
       "      <td>...</td>\n",
       "      <td>...</td>\n",
       "      <td>...</td>\n",
       "      <td>...</td>\n",
       "      <td>...</td>\n",
       "      <td>...</td>\n",
       "      <td>...</td>\n",
       "    </tr>\n",
       "    <tr>\n",
       "      <th>41311</th>\n",
       "      <td>753750.0</td>\n",
       "      <td>3.0</td>\n",
       "      <td>2.0</td>\n",
       "      <td>1.00</td>\n",
       "      <td>8210.0</td>\n",
       "      <td>2188.0</td>\n",
       "      <td>2022</td>\n",
       "      <td>9</td>\n",
       "    </tr>\n",
       "    <tr>\n",
       "      <th>41312</th>\n",
       "      <td>1985000.0</td>\n",
       "      <td>5.0</td>\n",
       "      <td>4.0</td>\n",
       "      <td>0.22</td>\n",
       "      <td>8204.0</td>\n",
       "      <td>2576.0</td>\n",
       "      <td>2022</td>\n",
       "      <td>10</td>\n",
       "    </tr>\n",
       "    <tr>\n",
       "      <th>41313</th>\n",
       "      <td>1985000.0</td>\n",
       "      <td>5.0</td>\n",
       "      <td>4.0</td>\n",
       "      <td>0.22</td>\n",
       "      <td>8204.0</td>\n",
       "      <td>2576.0</td>\n",
       "      <td>2022</td>\n",
       "      <td>10</td>\n",
       "    </tr>\n",
       "    <tr>\n",
       "      <th>41314</th>\n",
       "      <td>720900.0</td>\n",
       "      <td>3.0</td>\n",
       "      <td>2.0</td>\n",
       "      <td>1.00</td>\n",
       "      <td>8210.0</td>\n",
       "      <td>2188.0</td>\n",
       "      <td>2022</td>\n",
       "      <td>10</td>\n",
       "    </tr>\n",
       "    <tr>\n",
       "      <th>41315</th>\n",
       "      <td>1985000.0</td>\n",
       "      <td>5.0</td>\n",
       "      <td>4.0</td>\n",
       "      <td>0.22</td>\n",
       "      <td>8204.0</td>\n",
       "      <td>2576.0</td>\n",
       "      <td>2022</td>\n",
       "      <td>10</td>\n",
       "    </tr>\n",
       "  </tbody>\n",
       "</table>\n",
       "<p>41316 rows × 8 columns</p>\n",
       "</div>"
      ],
      "text/plain": [
       "           price  bed  bath  acre_lot  zip_code  house_size  year  month\n",
       "0       289000.0  1.0   1.0      0.13    7866.0       915.0  2000      1\n",
       "1       425000.0  3.0   2.0      0.31    8816.0      1336.0  2000      1\n",
       "2       289000.0  1.0   1.0      0.13    7866.0       915.0  2000      1\n",
       "3       289000.0  1.0   1.0      0.13    7866.0       915.0  2000      1\n",
       "4       949900.0  5.0   5.0      5.04    7830.0      4508.0  2000      1\n",
       "...          ...  ...   ...       ...       ...         ...   ...    ...\n",
       "41311   753750.0  3.0   2.0      1.00    8210.0      2188.0  2022      9\n",
       "41312  1985000.0  5.0   4.0      0.22    8204.0      2576.0  2022     10\n",
       "41313  1985000.0  5.0   4.0      0.22    8204.0      2576.0  2022     10\n",
       "41314   720900.0  3.0   2.0      1.00    8210.0      2188.0  2022     10\n",
       "41315  1985000.0  5.0   4.0      0.22    8204.0      2576.0  2022     10\n",
       "\n",
       "[41316 rows x 8 columns]"
      ]
     },
     "execution_count": 7,
     "metadata": {},
     "output_type": "execute_result"
    }
   ],
   "source": [
    "# Print First 5 Data Entries\n",
    "df"
   ]
  },
  {
   "cell_type": "code",
   "execution_count": 8,
   "id": "183e6905",
   "metadata": {},
   "outputs": [
    {
     "name": "stdout",
     "output_type": "stream",
     "text": [
      "There are a total of 41316 entries!\n"
     ]
    }
   ],
   "source": [
    "# Print Starting Length of DataFrame\n",
    "print(\"There are a total of\", starting_length, \"entries!\")"
   ]
  },
  {
   "cell_type": "markdown",
   "id": "73c92a1e",
   "metadata": {},
   "source": [
    "<hr style=\"border:2px solid; color:#CB5C29\">"
   ]
  },
  {
   "cell_type": "markdown",
   "id": "8e0ff371",
   "metadata": {},
   "source": [
    "<H1>Experimenting</H1>"
   ]
  },
  {
   "cell_type": "code",
   "execution_count": 9,
   "id": "d494e5dc",
   "metadata": {},
   "outputs": [],
   "source": [
    "df_yearly_averages = df.groupby(['year'])['price'].mean()"
   ]
  },
  {
   "cell_type": "code",
   "execution_count": 10,
   "id": "fdd9152d",
   "metadata": {},
   "outputs": [
    {
     "data": {
      "text/plain": [
       "year\n",
       "2000    536337.725191\n",
       "2001    540842.936433\n",
       "2002    519026.794737\n",
       "2003    487765.600297\n",
       "2004    445109.712963\n",
       "Name: price, dtype: float64"
      ]
     },
     "execution_count": 10,
     "metadata": {},
     "output_type": "execute_result"
    }
   ],
   "source": [
    "df_yearly_averages.head()"
   ]
  },
  {
   "cell_type": "code",
   "execution_count": 11,
   "id": "7db626c2",
   "metadata": {},
   "outputs": [
    {
     "data": {
      "image/png": "[encoded data removed]",
      "text/plain": [
       "<Figure size 1080x576 with 1 Axes>"
      ]
     },
     "metadata": {
      "needs_background": "light"
     },
     "output_type": "display_data"
    }
   ],
   "source": [
    "df_yearly_averages.plot(kind=\"bar\", figsize=(15,8))\n",
    "\n",
    "plt.title(\"Yearly Home Price Averages\", fontsize=32, fontname=\"Garamond\")\n",
    "plt.xticks(fontname=\"Garamond\", fontsize = 20)\n",
    "plt.yticks(fontname=\"Garamond\", fontsize = 20)\n",
    "plt.xlabel(\"Year\", fontsize=25, fontname=\"Garamond\")\n",
    "plt.ylabel(\"Average Price\", fontsize = 25, fontname=\"Garamond\");"
   ]
  },
  {
   "cell_type": "code",
   "execution_count": 12,
   "id": "0f1dc1f2",
   "metadata": {},
   "outputs": [],
   "source": [
    "df_monthly_averages = df.groupby(['month'])['price'].mean()"
   ]
  },
  {
   "cell_type": "code",
   "execution_count": 13,
   "id": "5fbd602d",
   "metadata": {},
   "outputs": [],
   "source": [
    "df_monthly_averages = pd.DataFrame(df_monthly_averages)"
   ]
  },
  {
   "cell_type": "code",
   "execution_count": 14,
   "id": "36a16b50",
   "metadata": {},
   "outputs": [],
   "source": [
    "months = ['January', 'February', 'March', 'April', 'May', 'June', 'July', 'August', 'September', 'October', 'November', 'December']"
   ]
  },
  {
   "cell_type": "code",
   "execution_count": 15,
   "id": "89601e2c",
   "metadata": {},
   "outputs": [],
   "source": [
    "df_monthly_averages.insert(1, \"months\", months, True)"
   ]
  },
  {
   "cell_type": "code",
   "execution_count": 16,
   "id": "978d4a88",
   "metadata": {},
   "outputs": [
    {
     "data": {
      "text/html": [
       "<div>\n",
       "<style scoped>\n",
       "    .dataframe tbody tr th:only-of-type {\n",
       "        vertical-align: middle;\n",
       "    }\n",
       "\n",
       "    .dataframe tbody tr th {\n",
       "        vertical-align: top;\n",
       "    }\n",
       "\n",
       "    .dataframe thead th {\n",
       "        text-align: right;\n",
       "    }\n",
       "</style>\n",
       "<table border=\"1\" class=\"dataframe\">\n",
       "  <thead>\n",
       "    <tr style=\"text-align: right;\">\n",
       "      <th></th>\n",
       "      <th>price</th>\n",
       "      <th>months</th>\n",
       "    </tr>\n",
       "    <tr>\n",
       "      <th>month</th>\n",
       "      <th></th>\n",
       "      <th></th>\n",
       "    </tr>\n",
       "  </thead>\n",
       "  <tbody>\n",
       "    <tr>\n",
       "      <th>1</th>\n",
       "      <td>484128.312379</td>\n",
       "      <td>January</td>\n",
       "    </tr>\n",
       "    <tr>\n",
       "      <th>2</th>\n",
       "      <td>451101.484121</td>\n",
       "      <td>February</td>\n",
       "    </tr>\n",
       "    <tr>\n",
       "      <th>3</th>\n",
       "      <td>503576.713505</td>\n",
       "      <td>March</td>\n",
       "    </tr>\n",
       "    <tr>\n",
       "      <th>4</th>\n",
       "      <td>474135.568580</td>\n",
       "      <td>April</td>\n",
       "    </tr>\n",
       "    <tr>\n",
       "      <th>5</th>\n",
       "      <td>495480.321032</td>\n",
       "      <td>May</td>\n",
       "    </tr>\n",
       "    <tr>\n",
       "      <th>6</th>\n",
       "      <td>516982.383478</td>\n",
       "      <td>June</td>\n",
       "    </tr>\n",
       "    <tr>\n",
       "      <th>7</th>\n",
       "      <td>490516.554871</td>\n",
       "      <td>July</td>\n",
       "    </tr>\n",
       "    <tr>\n",
       "      <th>8</th>\n",
       "      <td>511675.523458</td>\n",
       "      <td>August</td>\n",
       "    </tr>\n",
       "    <tr>\n",
       "      <th>9</th>\n",
       "      <td>500667.929298</td>\n",
       "      <td>September</td>\n",
       "    </tr>\n",
       "    <tr>\n",
       "      <th>10</th>\n",
       "      <td>475649.738051</td>\n",
       "      <td>October</td>\n",
       "    </tr>\n",
       "    <tr>\n",
       "      <th>11</th>\n",
       "      <td>491080.144563</td>\n",
       "      <td>November</td>\n",
       "    </tr>\n",
       "    <tr>\n",
       "      <th>12</th>\n",
       "      <td>510895.179648</td>\n",
       "      <td>December</td>\n",
       "    </tr>\n",
       "  </tbody>\n",
       "</table>\n",
       "</div>"
      ],
      "text/plain": [
       "               price     months\n",
       "month                          \n",
       "1      484128.312379    January\n",
       "2      451101.484121   February\n",
       "3      503576.713505      March\n",
       "4      474135.568580      April\n",
       "5      495480.321032        May\n",
       "6      516982.383478       June\n",
       "7      490516.554871       July\n",
       "8      511675.523458     August\n",
       "9      500667.929298  September\n",
       "10     475649.738051    October\n",
       "11     491080.144563   November\n",
       "12     510895.179648   December"
      ]
     },
     "execution_count": 16,
     "metadata": {},
     "output_type": "execute_result"
    }
   ],
   "source": [
    "df_monthly_averages"
   ]
  },
  {
   "cell_type": "code",
   "execution_count": 17,
   "id": "f43c615b",
   "metadata": {},
   "outputs": [
    {
     "data": {
      "image/png": "[encoded data removed]",
      "text/plain": [
       "<Figure size 1080x576 with 1 Axes>"
      ]
     },
     "metadata": {
      "needs_background": "light"
     },
     "output_type": "display_data"
    }
   ],
   "source": [
    "df_monthly_averages.plot(kind=\"line\", figsize=(15,8))\n",
    "\n",
    "plt.title(\"Monthly Home Price Averages\", fontsize=32, fontname=\"Garamond\")\n",
    "plt.xticks(df_monthly_averages.index, df_monthly_averages.months, fontname=\"Garamond\", fontsize = 15)\n",
    "plt.yticks(fontname=\"Garamond\", fontsize = 15)\n",
    "plt.xlabel(\"Month\", fontsize=20, fontname=\"Garamond\")\n",
    "plt.ylabel(\"Average Price\", fontsize = 20, fontname=\"Garamond\");"
   ]
  },
  {
   "cell_type": "code",
   "execution_count": null,
   "id": "55452a7f",
   "metadata": {},
   "outputs": [],
   "source": []
  },
  {
   "cell_type": "markdown",
   "id": "07bb209c",
   "metadata": {},
   "source": [
    "<hr style=\"border:2px solid; color:#CB5C29\">"
   ]
  },
  {
   "cell_type": "markdown",
   "id": "e15c3d42",
   "metadata": {},
   "source": [
    "<H3 span style=\"font-family:garamond; font-size:2.5em; text-align:center; color:#CB5C29\">How do we predict the price?</H3>"
   ]
  },
  {
   "cell_type": "markdown",
   "id": "fde2a483",
   "metadata": {},
   "source": [
    "<p span style=\"font-family:garamond; font-size:22px; text-align:left; color:#76424D\">We take many steps to create a highly accurate price prediction for your listings:</p>\n",
    "\n",
    "<ol span style=\"font-family:garamond; font-size:18px; color:#76424D\">\n",
    "    <li>Create Dataframe From Weekly Updated Data</li>\n",
    "    <li>Clean Data By Removing Unecessary Features and Missing Data</li>\n",
    "    <li>Select Most Important Features That Affect Price</li>\n",
    "    <li>Remove Outliers That Can Skew Results</li>\n",
    "    <li>Train the Predictor Model to 80% of the Remaining Data</li>\n",
    "    <li>Test the Other 20% of Data Through Predictor for Accuracy</li>\n",
    "    <li>Allow You to Input Information to Create a Prediction</li>\n",
    "</ol>"
   ]
  },
  {
   "cell_type": "markdown",
   "id": "046dfe20",
   "metadata": {},
   "source": [
    "<hr style=\"border:2px solid; color:#CB5C29\">"
   ]
  },
  {
   "cell_type": "markdown",
   "id": "abd68cd0",
   "metadata": {},
   "source": [
    "<H3 span style=\"font-family:garamond; font-size:2.5em; text-align:center; color:#CB5C29\">What affects listing prices?</H3>"
   ]
  },
  {
   "cell_type": "markdown",
   "id": "a8ccd283",
   "metadata": {},
   "source": [
    "<p span style=\"font-family:garamond; font-size:22px; text-align:left; color:#76424D\">We run the data through various testing to see the factors that are most likely to affect the price of the listings. <br>\n",
    "    <br>See below graph to show the different features of a home that most affect its pricing:</p>"
   ]
  },
  {
   "cell_type": "code",
   "execution_count": 18,
   "id": "ee873aa9",
   "metadata": {},
   "outputs": [],
   "source": [
    "# Set Up X & Y\n",
    "X = df.drop(\"price\", axis=1)\n",
    "y = df[\"price\"]"
   ]
  },
  {
   "cell_type": "code",
   "execution_count": 19,
   "id": "80c3afe9",
   "metadata": {},
   "outputs": [],
   "source": [
    "# Get Mutual Information Score\n",
    "def get_mi_score(X,y):\n",
    "    X = X\n",
    "    disc_feat = [pd.api.types.is_integer_dtype(t) for t in X.dtypes]\n",
    "    mut_info_score = mutual_info_regression(X,y,discrete_features=disc_feat, random_state=42)\n",
    "    mut_info_score = pd.Series(mut_info_score,name=\"Mutual Information Score\",index=X.columns)\n",
    "    mut_info_score = mut_info_score.sort_values(ascending=False)\n",
    "    return mut_info_score\n",
    "\n",
    "mut_info_score = get_mi_score(X,y)"
   ]
  },
  {
   "cell_type": "code",
   "execution_count": 20,
   "id": "1f5ed7e5",
   "metadata": {
    "scrolled": true
   },
   "outputs": [
    {
     "data": {
      "image/png": "[encoded data removed]",
      "text/plain": [
       "<Figure size 432x288 with 1 Axes>"
      ]
     },
     "metadata": {
      "needs_background": "light"
     },
     "output_type": "display_data"
    }
   ],
   "source": [
    "# Plot the Mutual Information Score\n",
    "def plot_score(score):\n",
    "    score = score.sort_values(ascending = True)\n",
    "    height = np.arange(len(score))\n",
    "    ticks = list(score.index)\n",
    "    plt.bar(height,score)\n",
    "    plt.yticks(height,ticks)\n",
    "    plt.title('Mutual Information Score')\n",
    "\n",
    "plot_score(mut_info_score)"
   ]
  },
  {
   "cell_type": "markdown",
   "id": "a83820a1",
   "metadata": {},
   "source": [
    "<p span style=\"font-family:garamond; font-size:22px; text-align:left; color:#76424D\">The above graph displays the mutual information score between the features of a home and the price. <br>\n",
    "<br>The higher the mutual information score, the more dependent on the feature the price is. <br>\n",
    "    Therefore, the house size and zip code have the highest impact on the price whereas the number of bedrooms and affect price the least.</p>"
   ]
  },
  {
   "cell_type": "markdown",
   "id": "2d7a0b50",
   "metadata": {},
   "source": [
    "<hr style=\"border:2px solid; color:#CB5C29\">"
   ]
  },
  {
   "cell_type": "markdown",
   "id": "fb2c91d0",
   "metadata": {},
   "source": [
    "<H3 span style=\"font-family:garamond; font-size:2.5em; text-align:center; color:#CB5C29\">How accurate are the pricing predictions?</H3>"
   ]
  },
  {
   "cell_type": "markdown",
   "id": "dd3de899",
   "metadata": {},
   "source": [
    "<p span style=\"font-family:garamond; font-size:22px; text-align:left; color:#76424D\">By reducing the unnecessary features and missing data, we have increased the prediction's accuracy. <br>\n",
    "    <br>In addition to these steps, we will also run a \"Z-Score\" test and remove any outliers outside of a given threshold to remove any items that could skew the results.</p>\n",
    "<hr>"
   ]
  },
  {
   "cell_type": "markdown",
   "id": "8485868d",
   "metadata": {},
   "source": [
    "<H2 span style=\"font-family:garamond; font-size:2em; text-align:center; color:#CB5C29\">Running the Data Through the Predictor</H2>"
   ]
  },
  {
   "cell_type": "markdown",
   "id": "a286083a",
   "metadata": {},
   "source": [
    "<p span style=\"font-family:garamond; font-size:22px; text-align:left; color:#76424D\">After cleaning the data, we are finally ready to run the data through our model to \"train\" it to make accurate predictions.</p>"
   ]
  },
  {
   "cell_type": "code",
   "execution_count": 21,
   "id": "10f5ec42",
   "metadata": {},
   "outputs": [],
   "source": [
    "# Set X & y\n",
    "X = df.drop(\"price\", axis = 1)\n",
    "y = df[\"price\"]\n",
    "\n",
    "# Set X_train, X_test, y_train, y_test\n",
    "X_train, X_test, y_train, y_test = train_test_split(X, y, test_size = 0.2)\n",
    "\n",
    "# Set Random Seed\n",
    "np.random.seed(42)\n",
    "\n",
    "# Create and Fit Model\n",
    "model = RandomForestRegressor()\n",
    "model.fit(X_train.values, y_train)\n",
    "\n",
    "# Test Model\n",
    "model_pred = model.predict(X_test)\n",
    "\n",
    "# Get Test Scores\n",
    "mae = mean_absolute_error(y_test, model_pred)\n",
    "r2 = r2_score(y_test, model_pred)\n",
    "r2_percent = r2*100"
   ]
  },
  {
   "cell_type": "markdown",
   "id": "3e5c9204",
   "metadata": {},
   "source": [
    "<hr>"
   ]
  },
  {
   "cell_type": "markdown",
   "id": "2315b5d7",
   "metadata": {},
   "source": [
    "<H2 span style=\"font-family:garamond; font-size:2em; text-align:center; color:#CB5C29\">Final Accuracy Score Results</H2>"
   ]
  },
  {
   "cell_type": "markdown",
   "id": "308514d4",
   "metadata": {},
   "source": [
    "<p span style=\"font-family:garamond; font-size:22px; text-align:left; color:#76424D\">Below is the accuracy score for today's listing price predictor:</p>"
   ]
  },
  {
   "cell_type": "code",
   "execution_count": 22,
   "id": "5fd0172d",
   "metadata": {
    "scrolled": true
   },
   "outputs": [
    {
     "name": "stdout",
     "output_type": "stream",
     "text": [
      "The accuracy of this listing price predictor is: 98.90%\n",
      "On average, this listing price predictor is $ 8880.52 off of any given price.\n"
     ]
    }
   ],
   "source": [
    "# Print Prediction Accuracy\n",
    "print(f\"The accuracy of this listing price predictor is: {r2_percent:.2f}%\")\n",
    "print(f\"On average, this listing price predictor is $ {mae:.2f} off of any given price.\")"
   ]
  },
  {
   "cell_type": "markdown",
   "id": "b0fda735",
   "metadata": {},
   "source": [
    "<p span style=\"font-family:garamond; font-size:22px; text-align:left; color:#76424D\">We run our prediction model at an average accuracy of at least 98% percent!</p>"
   ]
  },
  {
   "cell_type": "code",
   "execution_count": 23,
   "id": "92bf1a04",
   "metadata": {},
   "outputs": [
    {
     "name": "stdout",
     "output_type": "stream",
     "text": [
      "aiohttp @ file:///C:/ci/aiohttp_1646806572557/work\n",
      "aiosignal @ file:///tmp/build/80754af9/aiosignal_1637843061372/work\n",
      "alabaster @ file:///home/ktietz/src/ci/alabaster_1611921544520/work\n",
      "anaconda-client @ file:///C:/ci/anaconda-client_1635342725944/work\n",
      "anaconda-navigator==2.2.0\n",
      "anaconda-project @ file:///tmp/build/80754af9/anaconda-project_1637161053845/work\n",
      "ansi2html==1.7.0\n",
      "anyio @ file:///C:/ci/anyio_1644481921011/work/dist\n",
      "appdirs==1.4.4\n",
      "argon2-cffi @ file:///opt/conda/conda-bld/argon2-cffi_1645000214183/work\n",
      "argon2-cffi-bindings @ file:///C:/ci/argon2-cffi-bindings_1644551690056/work\n",
      "arrow @ file:///opt/conda/conda-bld/arrow_1649166651673/work\n",
      "astroid @ file:///C:/ci/astroid_1628063282661/work\n",
      "astropy @ file:///C:/ci/astropy_1650634291321/work\n",
      "asttokens @ file:///opt/conda/conda-bld/asttokens_1646925590279/work\n",
      "async-timeout @ file:///tmp/build/80754af9/async-timeout_1637851218186/work\n",
      "atomicwrites==1.4.0\n",
      "attrs @ file:///opt/conda/conda-bld/attrs_1642510447205/work\n",
      "Automat @ file:///tmp/build/80754af9/automat_1600298431173/work\n",
      "autopep8 @ file:///opt/conda/conda-bld/autopep8_1639166893812/work\n",
      "Babel @ file:///tmp/build/80754af9/babel_1620871417480/work\n",
      "backcall @ file:///home/ktietz/src/ci/backcall_1611930011877/work\n",
      "backports.functools-lru-cache @ file:///tmp/build/80754af9/backports.functools_lru_cache_1618170165463/work\n",
      "backports.tempfile @ file:///home/linux1/recipes/ci/backports.tempfile_1610991236607/work\n",
      "backports.weakref==1.0.post1\n",
      "bcrypt @ file:///C:/ci/bcrypt_1607022693089/work\n",
      "beautifulsoup4 @ file:///C:/ci/beautifulsoup4_1650293025093/work\n",
      "binaryornot @ file:///tmp/build/80754af9/binaryornot_1617751525010/work\n",
      "bitarray @ file:///C:/ci/bitarray_1648739663053/work\n",
      "bkcharts==0.2\n",
      "black==19.10b0\n",
      "bleach @ file:///opt/conda/conda-bld/bleach_1641577558959/work\n",
      "bokeh @ file:///C:/ci/bokeh_1638362966927/work\n",
      "boto3 @ file:///opt/conda/conda-bld/boto3_1649078879353/work\n",
      "botocore @ file:///opt/conda/conda-bld/botocore_1649076662316/work\n",
      "Bottleneck @ file:///C:/ci/bottleneck_1648010904582/work\n",
      "Brotli==1.0.9\n",
      "brotlipy==0.7.0\n",
      "cachetools @ file:///tmp/build/80754af9/cachetools_1619597386817/work\n",
      "category-encoders @ file:///home/conda/feedstock_root/build_artifacts/category_encoders_1654207317325/work/dist\n",
      "certifi==2021.10.8\n",
      "cffi @ file:///C:/ci_310/cffi_1642682485096/work\n",
      "chardet @ file:///C:/ci/chardet_1607706937985/work\n",
      "charset-normalizer @ file:///tmp/build/80754af9/charset-normalizer_1630003229654/work\n",
      "click @ file:///C:/ci/click_1646038595831/work\n",
      "cloudpickle @ file:///tmp/build/80754af9/cloudpickle_1632508026186/work\n",
      "clyent==1.2.2\n",
      "colorama @ file:///tmp/build/80754af9/colorama_1607707115595/work\n",
      "colorcet @ file:///tmp/build/80754af9/colorcet_1611168489822/work\n",
      "comtypes==1.1.10\n",
      "conda==4.13.0\n",
      "conda-build==3.21.8\n",
      "conda-content-trust @ file:///tmp/build/80754af9/conda-content-trust_1617045594566/work\n",
      "conda-pack @ file:///tmp/build/80754af9/conda-pack_1611163042455/work\n",
      "conda-package-handling @ file:///C:/ci/conda-package-handling_1649106011304/work\n",
      "conda-repo-cli @ file:///tmp/build/80754af9/conda-repo-cli_1620168426516/work\n",
      "conda-token @ file:///tmp/build/80754af9/conda-token_1620076980546/work\n",
      "conda-verify==3.4.2\n",
      "constantly==15.1.0\n",
      "cookiecutter @ file:///opt/conda/conda-bld/cookiecutter_1649151442564/work\n",
      "cryptography @ file:///C:/ci/cryptography_1633520531101/work\n",
      "cssselect==1.1.0\n",
      "cycler @ file:///tmp/build/80754af9/cycler_1637851556182/work\n",
      "Cython @ file:///C:/ci/cython_1647850559892/work\n",
      "cytoolz==0.11.0\n",
      "daal4py==2021.5.0\n",
      "dash==2.5.1\n",
      "dash-core-components==2.0.0\n",
      "dash-html-components==2.0.0\n",
      "dash-table==5.0.0\n",
      "dask @ file:///opt/conda/conda-bld/dask-core_1647268715755/work\n",
      "datashader @ file:///tmp/build/80754af9/datashader_1623782308369/work\n",
      "datashape==0.5.4\n",
      "debugpy @ file:///C:/ci/debugpy_1637091961445/work\n",
      "decorator @ file:///opt/conda/conda-bld/decorator_1643638310831/work\n",
      "defusedxml @ file:///tmp/build/80754af9/defusedxml_1615228127516/work\n",
      "diff-match-patch @ file:///Users/ktietz/demo/mc3/conda-bld/diff-match-patch_1630511840874/work\n",
      "distributed @ file:///opt/conda/conda-bld/distributed_1647271944416/work\n",
      "docutils @ file:///C:/ci/docutils_1620828264669/work\n",
      "entrypoints @ file:///C:/ci/entrypoints_1649926621128/work\n",
      "et-xmlfile==1.1.0\n",
      "executing @ file:///opt/conda/conda-bld/executing_1646925071911/work\n",
      "fastjsonschema @ file:///tmp/build/80754af9/python-fastjsonschema_1620414857593/work/dist\n",
      "filelock @ file:///opt/conda/conda-bld/filelock_1647002191454/work\n",
      "flake8 @ file:///tmp/build/80754af9/flake8_1620776156532/work\n",
      "Flask @ file:///home/ktietz/src/ci/flask_1611932660458/work\n",
      "Flask-Compress==1.12\n",
      "fonttools==4.25.0\n",
      "frozenlist @ file:///C:/ci/frozenlist_1637767271796/work\n",
      "fsspec @ file:///opt/conda/conda-bld/fsspec_1647268051896/work\n",
      "future @ file:///C:/ci/future_1607568713721/work\n",
      "gensim @ file:///C:/ci/gensim_1646825438310/work\n",
      "glob2 @ file:///home/linux1/recipes/ci/glob2_1610991677669/work\n",
      "google-api-core @ file:///C:/ci/google-api-core-split_1613980333946/work\n",
      "google-auth @ file:///tmp/build/80754af9/google-auth_1626320605116/work\n",
      "google-cloud-core @ file:///tmp/build/80754af9/google-cloud-core_1625077425256/work\n",
      "google-cloud-storage @ file:///tmp/build/80754af9/google-cloud-storage_1601307969662/work\n",
      "google-crc32c @ file:///C:/ci/google-crc32c_1613234249694/work\n",
      "google-resumable-media @ file:///tmp/build/80754af9/google-resumable-media_1624367812531/work\n",
      "googleapis-common-protos @ file:///C:/ci/googleapis-common-protos-feedstock_1617957814607/work\n",
      "greenlet @ file:///C:/ci/greenlet_1628888275363/work\n",
      "grpcio @ file:///C:/ci/grpcio_1637590978642/work\n",
      "h5py @ file:///C:/ci/h5py_1637120894255/work\n",
      "HeapDict @ file:///Users/ktietz/demo/mc3/conda-bld/heapdict_1630598515714/work\n",
      "holoviews @ file:///opt/conda/conda-bld/holoviews_1645454331194/work\n",
      "hvplot @ file:///tmp/build/80754af9/hvplot_1627305124151/work\n",
      "hyperlink @ file:///tmp/build/80754af9/hyperlink_1610130746837/work\n",
      "idna @ file:///tmp/build/80754af9/idna_1637925883363/work\n",
      "imagecodecs @ file:///C:/ci/imagecodecs_1635511087451/work\n",
      "imageio @ file:///tmp/build/80754af9/imageio_1617700267927/work\n",
      "imagesize @ file:///tmp/build/80754af9/imagesize_1637939814114/work\n",
      "importlib-metadata @ file:///C:/ci/importlib-metadata_1648562621412/work\n",
      "incremental @ file:///tmp/build/80754af9/incremental_1636629750599/work\n",
      "inflection==0.5.1\n",
      "iniconfig @ file:///home/linux1/recipes/ci/iniconfig_1610983019677/work\n",
      "intake @ file:///opt/conda/conda-bld/intake_1647436631684/work\n",
      "intervaltree @ file:///Users/ktietz/demo/mc3/conda-bld/intervaltree_1630511889664/work\n",
      "ipykernel @ file:///C:/ci/ipykernel_1646982785443/work/dist/ipykernel-6.9.1-py3-none-any.whl\n",
      "ipython @ file:///C:/ci/ipython_1648817223581/work\n",
      "ipython-genutils @ file:///tmp/build/80754af9/ipython_genutils_1606773439826/work\n",
      "ipywidgets @ file:///tmp/build/80754af9/ipywidgets_1634143127070/work\n",
      "isort @ file:///tmp/build/80754af9/isort_1628603791788/work\n",
      "itemadapter @ file:///tmp/build/80754af9/itemadapter_1626442940632/work\n",
      "itemloaders @ file:///opt/conda/conda-bld/itemloaders_1646805235997/work\n",
      "itsdangerous @ file:///tmp/build/80754af9/itsdangerous_1621432558163/work\n",
      "jdcal @ file:///Users/ktietz/demo/mc3/conda-bld/jdcal_1630584345063/work\n",
      "jedi @ file:///C:/ci/jedi_1644315428289/work\n",
      "Jinja2==3.1.2\n",
      "jinja2-time @ file:///opt/conda/conda-bld/jinja2-time_1649251842261/work\n",
      "jmespath @ file:///Users/ktietz/demo/mc3/conda-bld/jmespath_1630583964805/work\n",
      "joblib @ file:///tmp/build/80754af9/joblib_1635411271373/work\n",
      "jovian==0.2.41\n",
      "json5 @ file:///tmp/build/80754af9/json5_1624432770122/work\n",
      "jsonschema @ file:///C:/ci/jsonschema_1650008058050/work\n",
      "jupyter @ file:///C:/ci/jupyter_1607685287094/work\n",
      "jupyter-client @ file:///tmp/build/80754af9/jupyter_client_1616770841739/work\n",
      "jupyter-console @ file:///tmp/build/80754af9/jupyter_console_1616615302928/work\n",
      "jupyter-contrib-core @ file:///home/conda/feedstock_root/build_artifacts/jupyter_contrib_core_1657548529421/work\n",
      "jupyter-core==4.11.1\n",
      "jupyter-dash==0.4.2\n",
      "jupyter-nbextensions-configurator @ file:///D:/bld/jupyter_nbextensions_configurator_1611341303164/work\n",
      "jupyter-server==1.18.1\n",
      "jupyterlab @ file:///opt/conda/conda-bld/jupyterlab_1647445413472/work\n",
      "jupyterlab-pygments @ file:///tmp/build/80754af9/jupyterlab_pygments_1601490720602/work\n",
      "jupyterlab-server @ file:///opt/conda/conda-bld/jupyterlab_server_1644500396812/work\n",
      "jupyterlab-widgets @ file:///tmp/build/80754af9/jupyterlab_widgets_1609884341231/work\n",
      "kaggle==1.5.12\n",
      "keyring @ file:///C:/ci/keyring_1638531673471/work\n",
      "kiwisolver @ file:///C:/ci/kiwisolver_1644962577370/work\n",
      "lazy-object-proxy @ file:///C:/ci/lazy-object-proxy_1616529288960/work\n",
      "libarchive-c @ file:///tmp/build/80754af9/python-libarchive-c_1617780486945/work\n",
      "llvmlite==0.38.0\n",
      "locket @ file:///C:/ci/locket_1647006279389/work\n",
      "lxml @ file:///C:/ci/lxml_1646642862366/work\n",
      "Markdown @ file:///C:/ci/markdown_1614364082838/work\n",
      "MarkupSafe @ file:///C:/ci/markupsafe_1621528502553/work\n",
      "matplotlib @ file:///C:/ci/matplotlib-suite_1647423638658/work\n",
      "matplotlib-inline @ file:///tmp/build/80754af9/matplotlib-inline_1628242447089/work\n",
      "mccabe==0.6.1\n",
      "menuinst @ file:///C:/ci/menuinst_1631733438520/work\n",
      "mistune @ file:///C:/ci/mistune_1607359457024/work\n",
      "mkl-fft==1.3.1\n",
      "mkl-random @ file:///C:/ci/mkl_random_1626186184308/work\n",
      "mkl-service==2.4.0\n",
      "mock @ file:///tmp/build/80754af9/mock_1607622725907/work\n",
      "mpmath==1.2.1\n",
      "msgpack @ file:///C:/ci/msgpack-python_1612287350784/work\n",
      "multidict @ file:///C:/ci/multidict_1607349747897/work\n",
      "multipledispatch @ file:///C:/ci/multipledispatch_1607574329826/work\n",
      "munkres==1.1.4\n",
      "mypy-extensions==0.4.3\n",
      "mysql-connector-python==8.0.29\n",
      "navigator-updater==0.2.1\n",
      "nbclassic @ file:///opt/conda/conda-bld/nbclassic_1644943264176/work\n",
      "nbclient @ file:///C:/ci/nbclient_1650290387259/work\n",
      "nbconvert==6.5.0\n",
      "nbformat @ file:///C:/ci/nbformat_1649845125000/work\n",
      "nest-asyncio @ file:///C:/ci/nest-asyncio_1649829929390/work\n",
      "networkx @ file:///opt/conda/conda-bld/networkx_1647437648384/work\n",
      "nltk @ file:///opt/conda/conda-bld/nltk_1645628263994/work\n",
      "nose @ file:///opt/conda/conda-bld/nose_1642704612149/work\n",
      "notebook @ file:///C:/ci/notebook_1645002729033/work\n",
      "numba @ file:///C:/ci/numba_1650394399948/work\n",
      "numexpr @ file:///C:/ci/numexpr_1640704337920/work\n",
      "numpy @ file:///C:/ci/numpy_and_numpy_base_1649782970434/work\n",
      "numpydoc @ file:///opt/conda/conda-bld/numpydoc_1643788541039/work\n",
      "olefile @ file:///Users/ktietz/demo/mc3/conda-bld/olefile_1629805411829/work\n",
      "opendatasets==0.1.22\n",
      "openpyxl @ file:///tmp/build/80754af9/openpyxl_1632777717936/work\n",
      "packaging @ file:///tmp/build/80754af9/packaging_1637314298585/work\n",
      "pandas @ file:///C:/ci/pandas_1650373458095/work\n",
      "pandocfilters @ file:///opt/conda/conda-bld/pandocfilters_1643405455980/work\n",
      "panel @ file:///C:/ci/panel_1650623703033/work\n",
      "param @ file:///tmp/build/80754af9/param_1636647414893/work\n",
      "paramiko @ file:///opt/conda/conda-bld/paramiko_1640109032755/work\n",
      "parsel @ file:///C:/ci/parsel_1646740216444/work\n",
      "parso @ file:///opt/conda/conda-bld/parso_1641458642106/work\n",
      "partd @ file:///opt/conda/conda-bld/partd_1647245470509/work\n",
      "pathspec==0.7.0\n",
      "patsy==0.5.2\n",
      "pep8==1.7.1\n",
      "pexpect @ file:///tmp/build/80754af9/pexpect_1605563209008/work\n",
      "pickleshare @ file:///tmp/build/80754af9/pickleshare_1606932040724/work\n",
      "Pillow==9.0.1\n",
      "pkginfo @ file:///tmp/build/80754af9/pkginfo_1643162084911/work\n",
      "plotly @ file:///opt/conda/conda-bld/plotly_1646671701182/work\n",
      "pluggy @ file:///C:/ci/pluggy_1648024580010/work\n",
      "poyo @ file:///tmp/build/80754af9/poyo_1617751526755/work\n",
      "prometheus-client @ file:///opt/conda/conda-bld/prometheus_client_1643788673601/work\n",
      "prompt-toolkit @ file:///tmp/build/80754af9/prompt-toolkit_1633440160888/work\n",
      "Protego @ file:///tmp/build/80754af9/protego_1598657180827/work\n",
      "protobuf==3.19.1\n",
      "psutil @ file:///C:/ci/psutil_1612298199233/work\n",
      "ptyprocess @ file:///tmp/build/80754af9/ptyprocess_1609355006118/work/dist/ptyprocess-0.7.0-py2.py3-none-any.whl\n",
      "pure-eval @ file:///opt/conda/conda-bld/pure_eval_1646925070566/work\n",
      "py @ file:///opt/conda/conda-bld/py_1644396412707/work\n",
      "pyasn1 @ file:///Users/ktietz/demo/mc3/conda-bld/pyasn1_1629708007385/work\n",
      "pyasn1-modules==0.2.8\n",
      "pycodestyle @ file:///tmp/build/80754af9/pycodestyle_1615748559966/work\n",
      "pycosat==0.6.3\n",
      "pycparser @ file:///tmp/build/80754af9/pycparser_1636541352034/work\n",
      "pyct @ file:///C:/ci/pyct_1613411728548/work\n",
      "pycurl==7.44.1\n",
      "PyDispatcher==2.0.5\n",
      "pydocstyle @ file:///tmp/build/80754af9/pydocstyle_1621600989141/work\n",
      "pyerfa @ file:///C:/ci/pyerfa_1621560974055/work\n",
      "pyflakes @ file:///tmp/build/80754af9/pyflakes_1617200973297/work\n",
      "Pygments @ file:///opt/conda/conda-bld/pygments_1644249106324/work\n",
      "PyHamcrest @ file:///tmp/build/80754af9/pyhamcrest_1615748656804/work\n",
      "PyJWT @ file:///C:/ci/pyjwt_1619682721924/work\n",
      "pylint @ file:///C:/ci/pylint_1627536884966/work\n",
      "pyls-spyder==0.4.0\n",
      "PyNaCl @ file:///C:/ci/pynacl_1607612759007/work\n",
      "pyodbc @ file:///C:/ci/pyodbc_1647426110990/work\n",
      "pyOpenSSL @ file:///tmp/build/80754af9/pyopenssl_1635333100036/work\n",
      "pyparsing @ file:///tmp/build/80754af9/pyparsing_1635766073266/work\n",
      "pyreadline==2.1\n",
      "pyrsistent @ file:///C:/ci/pyrsistent_1636093225342/work\n",
      "PySocks @ file:///C:/ci/pysocks_1605307512533/work\n",
      "pytest==7.1.1\n",
      "python-dateutil @ file:///tmp/build/80754af9/python-dateutil_1626374649649/work\n",
      "python-lsp-black @ file:///tmp/build/80754af9/python-lsp-black_1634232156041/work\n",
      "python-lsp-jsonrpc==1.0.0\n",
      "python-lsp-server==1.2.4\n",
      "python-slugify @ file:///tmp/build/80754af9/python-slugify_1620405669636/work\n",
      "python-snappy @ file:///C:/ci/python-snappy_1610133405910/work\n",
      "pytz==2021.3\n",
      "pyviz-comms @ file:///tmp/build/80754af9/pyviz_comms_1623747165329/work\n",
      "PyWavelets @ file:///C:/ci/pywavelets_1648728084106/work\n",
      "pywin32==302\n",
      "pywin32-ctypes @ file:///C:/ci/pywin32-ctypes_1607553594546/work\n",
      "pywinpty @ file:///C:/ci_310/pywinpty_1644230983541/work/target/wheels/pywinpty-2.0.2-cp39-none-win_amd64.whl\n",
      "PyYAML==6.0\n",
      "pyzmq @ file:///C:/ci/pyzmq_1638435148211/work\n",
      "QDarkStyle @ file:///tmp/build/80754af9/qdarkstyle_1617386714626/work\n",
      "qstylizer @ file:///tmp/build/80754af9/qstylizer_1617713584600/work/dist/qstylizer-0.1.10-py2.py3-none-any.whl\n",
      "QtAwesome @ file:///tmp/build/80754af9/qtawesome_1637160816833/work\n",
      "qtconsole @ file:///opt/conda/conda-bld/qtconsole_1649078897110/work\n",
      "QtPy @ file:///opt/conda/conda-bld/qtpy_1649073884068/work\n",
      "queuelib==1.5.0\n",
      "regex @ file:///C:/ci/regex_1648447888413/work\n",
      "requests @ file:///opt/conda/conda-bld/requests_1641824580448/work\n",
      "requests-file @ file:///Users/ktietz/demo/mc3/conda-bld/requests-file_1629455781986/work\n",
      "retrying==1.3.3\n",
      "rope @ file:///opt/conda/conda-bld/rope_1643788605236/work\n",
      "rsa @ file:///tmp/build/80754af9/rsa_1614366226499/work\n",
      "Rtree @ file:///C:/ci/rtree_1618421015405/work\n",
      "ruamel-yaml-conda @ file:///C:/ci/ruamel_yaml_1616016898638/work\n",
      "s3transfer @ file:///tmp/build/80754af9/s3transfer_1626435152308/work\n",
      "scikit-image @ file:///C:/ci/scikit-image_1648214340990/work\n",
      "scikit-learn @ file:///C:/ci/scikit-learn_1642617276183/work\n",
      "scikit-learn-intelex==2021.20220215.102710\n",
      "scipy @ file:///C:/ci/scipy_1641555170412/work\n",
      "Scrapy @ file:///C:/ci/scrapy_1646837986255/work\n",
      "seaborn @ file:///tmp/build/80754af9/seaborn_1629307859561/work\n",
      "Send2Trash @ file:///tmp/build/80754af9/send2trash_1632406701022/work\n",
      "service-identity @ file:///Users/ktietz/demo/mc3/conda-bld/service_identity_1629460757137/work\n",
      "sip==4.19.13\n",
      "six @ file:///tmp/build/80754af9/six_1644875935023/work\n",
      "smart-open @ file:///tmp/build/80754af9/smart_open_1623928409369/work\n",
      "sniffio @ file:///C:/ci/sniffio_1614030527509/work\n",
      "snowballstemmer @ file:///tmp/build/80754af9/snowballstemmer_1637937080595/work\n",
      "sortedcollections @ file:///tmp/build/80754af9/sortedcollections_1611172717284/work\n",
      "sortedcontainers @ file:///tmp/build/80754af9/sortedcontainers_1623949099177/work\n",
      "soupsieve @ file:///tmp/build/80754af9/soupsieve_1636706018808/work\n",
      "Sphinx @ file:///opt/conda/conda-bld/sphinx_1643644169832/work\n",
      "sphinxcontrib-applehelp @ file:///home/ktietz/src/ci/sphinxcontrib-applehelp_1611920841464/work\n",
      "sphinxcontrib-devhelp @ file:///home/ktietz/src/ci/sphinxcontrib-devhelp_1611920923094/work\n",
      "sphinxcontrib-htmlhelp @ file:///tmp/build/80754af9/sphinxcontrib-htmlhelp_1623945626792/work\n",
      "sphinxcontrib-jsmath @ file:///home/ktietz/src/ci/sphinxcontrib-jsmath_1611920942228/work\n",
      "sphinxcontrib-qthelp @ file:///home/ktietz/src/ci/sphinxcontrib-qthelp_1611921055322/work\n",
      "sphinxcontrib-serializinghtml @ file:///tmp/build/80754af9/sphinxcontrib-serializinghtml_1624451540180/work\n",
      "spyder @ file:///C:/ci/spyder_1636480369575/work\n",
      "spyder-kernels @ file:///C:/ci/spyder-kernels_1634237096710/work\n",
      "SQLAlchemy @ file:///C:/ci/sqlalchemy_1647600017103/work\n",
      "stack-data @ file:///opt/conda/conda-bld/stack_data_1646927590127/work\n",
      "statsmodels==0.13.2\n",
      "sympy @ file:///C:/ci/sympy_1647853873858/work\n",
      "tables==3.6.1\n",
      "tabulate==0.8.9\n",
      "TBB==0.2\n",
      "tblib @ file:///Users/ktietz/demo/mc3/conda-bld/tblib_1629402031467/work\n",
      "tenacity @ file:///C:/ci/tenacity_1626248381338/work\n",
      "terminado @ file:///C:/ci/terminado_1644322780199/work\n",
      "testpath @ file:///tmp/build/80754af9/testpath_1624638946665/work\n",
      "text-unidecode @ file:///Users/ktietz/demo/mc3/conda-bld/text-unidecode_1629401354553/work\n",
      "textdistance @ file:///tmp/build/80754af9/textdistance_1612461398012/work\n",
      "threadpoolctl @ file:///Users/ktietz/demo/mc3/conda-bld/threadpoolctl_1629802263681/work\n",
      "three-merge @ file:///tmp/build/80754af9/three-merge_1607553261110/work\n",
      "tifffile @ file:///tmp/build/80754af9/tifffile_1627275862826/work\n",
      "tinycss @ file:///tmp/build/80754af9/tinycss_1617713798712/work\n",
      "tinycss2==1.1.1\n",
      "tldextract @ file:///opt/conda/conda-bld/tldextract_1646638314385/work\n",
      "toml @ file:///tmp/build/80754af9/toml_1616166611790/work\n",
      "tomli @ file:///tmp/build/80754af9/tomli_1637314251069/work\n",
      "toolz @ file:///tmp/build/80754af9/toolz_1636545406491/work\n",
      "tornado @ file:///C:/ci/tornado_1606924294691/work\n",
      "tqdm @ file:///C:/ci/tqdm_1650636210717/work\n",
      "traitlets @ file:///tmp/build/80754af9/traitlets_1636710298902/work\n",
      "Twisted @ file:///C:/ci/twisted_1646835413846/work\n",
      "twisted-iocpsupport @ file:///C:/ci/twisted-iocpsupport_1646798932792/work\n",
      "typed-ast @ file:///C:/ci/typed-ast_1624953797214/work\n",
      "typing_extensions @ file:///opt/conda/conda-bld/typing_extensions_1647553014482/work\n",
      "ujson @ file:///C:/ci/ujson_1648044223886/work\n",
      "Unidecode @ file:///tmp/build/80754af9/unidecode_1614712377438/work\n",
      "urllib3 @ file:///C:/ci/urllib3_1650639883891/work\n",
      "uuid==1.30\n",
      "voila==0.3.6\n",
      "w3lib @ file:///Users/ktietz/demo/mc3/conda-bld/w3lib_1629359764703/work\n",
      "watchdog @ file:///C:/ci/watchdog_1638367441841/work\n",
      "wcwidth @ file:///Users/ktietz/demo/mc3/conda-bld/wcwidth_1629357192024/work\n",
      "webencodings==0.5.1\n",
      "websocket-client @ file:///C:/ci/websocket-client_1614804375980/work\n",
      "websockets==10.3\n",
      "Werkzeug @ file:///opt/conda/conda-bld/werkzeug_1645628268370/work\n",
      "widgetsnbextension @ file:///C:/ci/widgetsnbextension_1644991377168/work\n",
      "win-inet-pton @ file:///C:/ci/win_inet_pton_1605306162074/work\n",
      "win-unicode-console==0.5\n",
      "wincertstore==0.2\n",
      "wrapt @ file:///C:/ci/wrapt_1607574570428/work\n",
      "xarray @ file:///opt/conda/conda-bld/xarray_1639166117697/work\n",
      "xlrd @ file:///tmp/build/80754af9/xlrd_1608072521494/work\n",
      "XlsxWriter @ file:///opt/conda/conda-bld/xlsxwriter_1649073856329/work\n",
      "xlwings==0.24.9\n",
      "yapf @ file:///tmp/build/80754af9/yapf_1615749224965/work\n",
      "yarl @ file:///C:/ci/yarl_1606940155993/work\n",
      "zict==2.0.0\n",
      "zipp @ file:///opt/conda/conda-bld/zipp_1641824620731/work\n",
      "zope.interface @ file:///C:/ci/zope.interface_1625036252485/work\n"
     ]
    }
   ],
   "source": [
    "!pip freeze requirements"
   ]
  },
  {
   "cell_type": "markdown",
   "id": "4b30d749",
   "metadata": {},
   "source": [
    "<hr style=\"border:2px solid; color:#CB5C29\">"
   ]
  }
 ],
 "metadata": {
  "kernelspec": {
   "display_name": "Python 3 (ipykernel)",
   "language": "python",
   "name": "python3"
  },
  "language_info": {
   "codemirror_mode": {
    "name": "ipython",
    "version": 3
   },
   "file_extension": ".py",
   "mimetype": "text/x-python",
   "name": "python",
   "nbconvert_exporter": "python",
   "pygments_lexer": "ipython3",
   "version": "3.9.12"
  }
 },
 "nbformat": 4,
 "nbformat_minor": 5
}
